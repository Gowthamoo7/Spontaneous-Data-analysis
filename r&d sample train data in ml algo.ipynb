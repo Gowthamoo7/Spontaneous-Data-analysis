{
 "cells": [
  {
   "cell_type": "code",
   "execution_count": 1,
   "metadata": {},
   "outputs": [],
   "source": [
    "import pandas as pd\n",
    "import numpy as np\n",
    "from nltk.tokenize import word_tokenize\n",
    "from nltk import pos_tag\n",
    "from nltk.corpus import stopwords\n",
    "from nltk.stem import WordNetLemmatizer\n",
    "from sklearn.preprocessing import LabelEncoder\n",
    "from collections import defaultdict\n",
    "from nltk.corpus import wordnet as wn\n",
    "from sklearn.feature_extraction.text import TfidfVectorizer\n",
    "from sklearn import model_selection, naive_bayes, svm\n",
    "from sklearn.metrics import accuracy_score\n",
    "from sklearn.naive_bayes import MultinomialNB\n",
    "from sklearn.pipeline import Pipeline\n",
    "from sklearn.feature_extraction.text import TfidfTransformer\n",
    "from sklearn.model_selection import train_test_split\n",
    "from sklearn.feature_extraction.text import CountVectorizer, TfidfVectorizer\n",
    "from sklearn.metrics import accuracy_score, confusion_matrix\n"
   ]
  },
  {
   "cell_type": "code",
   "execution_count": 11,
   "metadata": {},
   "outputs": [],
   "source": [
    "df=pd.read_excel(\"C:/Users/Dell/Pictures/rndsampletrain.xlsx\")\n",
    "df=df[['row_index','content','final_sentiment']]"
   ]
  },
  {
   "cell_type": "code",
   "execution_count": 14,
   "metadata": {
    "scrolled": true
   },
   "outputs": [
    {
     "data": {
      "text/html": [
       "<div>\n",
       "<style scoped>\n",
       "    .dataframe tbody tr th:only-of-type {\n",
       "        vertical-align: middle;\n",
       "    }\n",
       "\n",
       "    .dataframe tbody tr th {\n",
       "        vertical-align: top;\n",
       "    }\n",
       "\n",
       "    .dataframe thead th {\n",
       "        text-align: right;\n",
       "    }\n",
       "</style>\n",
       "<table border=\"1\" class=\"dataframe\">\n",
       "  <thead>\n",
       "    <tr style=\"text-align: right;\">\n",
       "      <th></th>\n",
       "      <th>row_index</th>\n",
       "      <th>content</th>\n",
       "      <th>final_sentiment</th>\n",
       "    </tr>\n",
       "  </thead>\n",
       "  <tbody>\n",
       "    <tr>\n",
       "      <th>0</th>\n",
       "      <td>0</td>\n",
       "      <td>Smell good, instant glow, long lasting freshne...</td>\n",
       "      <td>1</td>\n",
       "    </tr>\n",
       "    <tr>\n",
       "      <th>1</th>\n",
       "      <td>1</td>\n",
       "      <td>Smell, freshness, spreadability, fairness, sof...</td>\n",
       "      <td>1</td>\n",
       "    </tr>\n",
       "    <tr>\n",
       "      <th>2</th>\n",
       "      <td>2</td>\n",
       "      <td>Softness is good, smell is good, like the brig...</td>\n",
       "      <td>1</td>\n",
       "    </tr>\n",
       "    <tr>\n",
       "      <th>3</th>\n",
       "      <td>3</td>\n",
       "      <td>Like the smell very much, softness good, non o...</td>\n",
       "      <td>1</td>\n",
       "    </tr>\n",
       "    <tr>\n",
       "      <th>4</th>\n",
       "      <td>4</td>\n",
       "      <td>Softness, non oily feel, smell, spread evenly,...</td>\n",
       "      <td>1</td>\n",
       "    </tr>\n",
       "  </tbody>\n",
       "</table>\n",
       "</div>"
      ],
      "text/plain": [
       "   row_index                                            content  \\\n",
       "0          0  Smell good, instant glow, long lasting freshne...   \n",
       "1          1  Smell, freshness, spreadability, fairness, sof...   \n",
       "2          2  Softness is good, smell is good, like the brig...   \n",
       "3          3  Like the smell very much, softness good, non o...   \n",
       "4          4  Softness, non oily feel, smell, spread evenly,...   \n",
       "\n",
       "   final_sentiment  \n",
       "0                1  \n",
       "1                1  \n",
       "2                1  \n",
       "3                1  \n",
       "4                1  "
      ]
     },
     "execution_count": 14,
     "metadata": {},
     "output_type": "execute_result"
    }
   ],
   "source": [
    "df.head()"
   ]
  },
  {
   "cell_type": "code",
   "execution_count": 13,
   "metadata": {},
   "outputs": [],
   "source": [
    "#removing /d with , and (d) with space\n",
    "df['content'] = df['content'].str.replace(\"/\", \",\")\n",
    "#df['content'] = df['content'].str.replace(\"(d)\", \" \")\n"
   ]
  },
  {
   "cell_type": "code",
   "execution_count": 15,
   "metadata": {},
   "outputs": [
    {
     "data": {
      "text/plain": [
       "1    251\n",
       "0    105\n",
       "Name: final_sentiment, dtype: int64"
      ]
     },
     "execution_count": 15,
     "metadata": {},
     "output_type": "execute_result"
    }
   ],
   "source": [
    "df.final_sentiment.value_counts()"
   ]
  },
  {
   "cell_type": "code",
   "execution_count": 16,
   "metadata": {},
   "outputs": [],
   "source": [
    "from sklearn.naive_bayes import MultinomialNB\n",
    "from sklearn.pipeline import Pipeline\n",
    "from sklearn.feature_extraction.text import TfidfTransformer\n",
    "from sklearn.model_selection import train_test_split\n",
    "from sklearn.feature_extraction.text import CountVectorizer, TfidfVectorizer\n",
    "from sklearn.metrics import accuracy_score, confusion_matrix\n",
    "\n",
    "\n",
    "X = df.content\n",
    "y = df.final_sentiment\n",
    "X_train, X_test, y_train, y_test = train_test_split(X, y, test_size=0.3, random_state = 42,stratify=y)"
   ]
  },
  {
   "cell_type": "code",
   "execution_count": 17,
   "metadata": {},
   "outputs": [
    {
     "data": {
      "text/plain": [
       "53     It’s thick (d), it give dryness on skin (d), g...\n",
       "1      Smell, freshness, spreadability, fairness, sof...\n",
       "258                             No long lasting softness\n",
       "195    Control dryness, give warming smooth, long las...\n",
       "117    Good frag, it's required more to use (d), it's...\n",
       "Name: content, dtype: object"
      ]
     },
     "execution_count": 17,
     "metadata": {},
     "output_type": "execute_result"
    }
   ],
   "source": [
    "X_train.head()"
   ]
  },
  {
   "cell_type": "code",
   "execution_count": 18,
   "metadata": {},
   "outputs": [
    {
     "data": {
      "text/plain": [
       "1    176\n",
       "0     73\n",
       "Name: final_sentiment, dtype: int64"
      ]
     },
     "execution_count": 18,
     "metadata": {},
     "output_type": "execute_result"
    }
   ],
   "source": [
    "y_train.value_counts()"
   ]
  },
  {
   "cell_type": "code",
   "execution_count": 19,
   "metadata": {},
   "outputs": [
    {
     "data": {
      "text/plain": [
       "1    75\n",
       "0    32\n",
       "Name: final_sentiment, dtype: int64"
      ]
     },
     "execution_count": 19,
     "metadata": {},
     "output_type": "execute_result"
    }
   ],
   "source": [
    "y_test.value_counts()"
   ]
  },
  {
   "cell_type": "code",
   "execution_count": 20,
   "metadata": {},
   "outputs": [
    {
     "name": "stdout",
     "output_type": "stream",
     "text": [
      "accuracy 0.8691588785046729\n",
      "              precision    recall  f1-score   support\n",
      "\n",
      "           0       1.00      0.56      0.72        32\n",
      "           1       0.84      1.00      0.91        75\n",
      "\n",
      "   micro avg       0.87      0.87      0.87       107\n",
      "   macro avg       0.92      0.78      0.82       107\n",
      "weighted avg       0.89      0.87      0.86       107\n",
      "\n"
     ]
    }
   ],
   "source": [
    "\n",
    "#smote\n",
    "nb = Pipeline([('vect', CountVectorizer()),\n",
    "               ('tfidf', TfidfTransformer()),\n",
    "               ('clf', MultinomialNB()),\n",
    "              ])\n",
    "nb.fit(X_train, y_train)\n",
    "\n",
    "\n",
    "from sklearn.metrics import classification_report\n",
    "y_pred = nb.predict(X_test)\n",
    "\n",
    "print('accuracy %s' % accuracy_score(y_pred, y_test))\n",
    "print(classification_report(y_test, y_pred))\n"
   ]
  },
  {
   "cell_type": "code",
   "execution_count": 21,
   "metadata": {},
   "outputs": [
    {
     "data": {
      "text/plain": [
       "array([1, 1, 1, 0, 1, 1, 1, 0, 1, 1, 1, 1, 1, 1, 1, 0, 1, 1, 1, 1, 1, 1,\n",
       "       1, 1, 1, 1, 1, 1, 0, 0, 1, 1, 1, 1, 1, 0, 1, 1, 0, 1, 1, 1, 1, 0,\n",
       "       1, 1, 1, 1, 1, 1, 1, 1, 1, 0, 1, 1, 0, 0, 1, 1, 0, 1, 1, 1, 0, 1,\n",
       "       1, 1, 0, 1, 1, 1, 1, 1, 1, 1, 1, 1, 1, 1, 1, 1, 1, 1, 1, 1, 1, 0,\n",
       "       1, 1, 1, 1, 1, 1, 1, 1, 1, 1, 1, 1, 1, 1, 0, 0, 1, 0, 1],\n",
       "      dtype=int64)"
      ]
     },
     "execution_count": 21,
     "metadata": {},
     "output_type": "execute_result"
    }
   ],
   "source": [
    "y_pred # 9wrong in nb"
   ]
  },
  {
   "cell_type": "code",
   "execution_count": 22,
   "metadata": {},
   "outputs": [
    {
     "data": {
      "text/plain": [
       "array([1, 1, 1, 0, 1, 1, 1, 0, 1, 0, 1, 1, 1, 1, 1, 0, 1, 1, 1, 1, 0, 1,\n",
       "       1, 1, 1, 0, 1, 1, 0, 0, 1, 1, 1, 1, 1, 0, 0, 1, 0, 1, 1, 1, 1, 0,\n",
       "       0, 1, 1, 0, 1, 1, 1, 1, 1, 0, 1, 1, 0, 0, 1, 1, 0, 1, 1, 1, 0, 1,\n",
       "       1, 1, 0, 1, 1, 0, 0, 1, 1, 1, 0, 1, 0, 1, 1, 1, 1, 1, 1, 1, 1, 0,\n",
       "       0, 1, 1, 0, 1, 1, 1, 0, 1, 1, 0, 1, 1, 1, 0, 0, 1, 0, 1],\n",
       "      dtype=int64)"
      ]
     },
     "execution_count": 22,
     "metadata": {},
     "output_type": "execute_result"
    }
   ],
   "source": [
    "np.array(y_test)"
   ]
  },
  {
   "cell_type": "code",
   "execution_count": 107,
   "metadata": {},
   "outputs": [
    {
     "name": "stdout",
     "output_type": "stream",
     "text": [
      "accuracy 0.9252336448598131\n",
      "              precision    recall  f1-score   support\n",
      "\n",
      "           0       0.85      0.91      0.88        32\n",
      "           1       0.96      0.93      0.95        75\n",
      "\n",
      "   micro avg       0.93      0.93      0.93       107\n",
      "   macro avg       0.91      0.92      0.91       107\n",
      "weighted avg       0.93      0.93      0.93       107\n",
      "\n"
     ]
    }
   ],
   "source": [
    "from sklearn.linear_model import SGDClassifier\n",
    "\n",
    "sgd = Pipeline([('vect', CountVectorizer()),\n",
    "                ('tfidf', TfidfTransformer()),\n",
    "                ('clf', SGDClassifier(loss='hinge', penalty='l2',alpha=1e-3, max_iter=5, tol=None)),\n",
    "               ])\n",
    "sgd.fit(X_train, y_train)\n",
    "\n",
    "y_pred = sgd.predict(X_test)\n",
    "\n",
    "print('accuracy %s' % accuracy_score(y_pred, y_test))\n",
    "print(classification_report(y_test, y_pred))"
   ]
  },
  {
   "cell_type": "code",
   "execution_count": 113,
   "metadata": {},
   "outputs": [
    {
     "name": "stdout",
     "output_type": "stream",
     "text": [
      "accuracy 0.9345794392523364\n",
      "              precision    recall  f1-score   support\n",
      "\n",
      "           0       0.86      0.94      0.90        32\n",
      "           1       0.97      0.93      0.95        75\n",
      "\n",
      "   micro avg       0.93      0.93      0.93       107\n",
      "   macro avg       0.91      0.94      0.92       107\n",
      "weighted avg       0.94      0.93      0.94       107\n",
      "\n"
     ]
    }
   ],
   "source": [
    "# 2nd one:\n",
    "from sklearn.linear_model import SGDClassifier\n",
    "\n",
    "sgd = Pipeline([('vect', CountVectorizer()),\n",
    "                ('tfidf', TfidfTransformer()),\n",
    "                ('clf', SGDClassifier()),\n",
    "               ])\n",
    "sgd.fit(X_train, y_train)\n",
    "\n",
    "y_pred = sgd.predict(X_test)\n",
    "\n",
    "print('accuracy %s' % accuracy_score(y_pred, y_test))\n",
    "print(classification_report(y_test, y_pred))"
   ]
  },
  {
   "cell_type": "code",
   "execution_count": 114,
   "metadata": {},
   "outputs": [
    {
     "data": {
      "text/plain": [
       "array([1, 1, 1, 0, 1, 1, 1, 0, 1, 0, 1, 1, 0, 1, 1, 0, 0, 1, 1, 1, 1, 1,\n",
       "       1, 1, 1, 0, 1, 1, 0, 0, 1, 0, 1, 1, 1, 0, 0, 1, 0, 1, 1, 1, 0, 0,\n",
       "       0, 1, 1, 0, 1, 1, 1, 0, 1, 0, 1, 1, 0, 0, 1, 1, 0, 1, 1, 1, 0, 1,\n",
       "       1, 1, 0, 1, 1, 0, 0, 1, 1, 1, 0, 1, 0, 1, 1, 1, 1, 1, 1, 1, 1, 0,\n",
       "       0, 1, 1, 1, 1, 1, 1, 0, 1, 1, 0, 1, 1, 1, 0, 0, 1, 0, 1],\n",
       "      dtype=int64)"
      ]
     },
     "execution_count": 114,
     "metadata": {},
     "output_type": "execute_result"
    }
   ],
   "source": [
    "y_pred #  6wrong in sgd"
   ]
  },
  {
   "cell_type": "code",
   "execution_count": 115,
   "metadata": {},
   "outputs": [
    {
     "data": {
      "text/plain": [
       "array([1, 1, 1, 0, 1, 1, 1, 0, 1, 0, 1, 1, 1, 1, 1, 0, 1, 1, 1, 1, 0, 1,\n",
       "       1, 1, 1, 0, 1, 1, 0, 0, 1, 1, 1, 1, 1, 0, 0, 1, 0, 1, 1, 1, 1, 0,\n",
       "       0, 1, 1, 0, 1, 1, 1, 1, 1, 0, 1, 1, 0, 0, 1, 1, 0, 1, 1, 1, 0, 1,\n",
       "       1, 1, 0, 1, 1, 0, 0, 1, 1, 1, 0, 1, 0, 1, 1, 1, 1, 1, 1, 1, 1, 0,\n",
       "       0, 1, 1, 0, 1, 1, 1, 0, 1, 1, 0, 1, 1, 1, 0, 0, 1, 0, 1],\n",
       "      dtype=int64)"
      ]
     },
     "execution_count": 115,
     "metadata": {},
     "output_type": "execute_result"
    }
   ],
   "source": [
    "np.array(y_test)"
   ]
  },
  {
   "cell_type": "code",
   "execution_count": 119,
   "metadata": {
    "scrolled": true
   },
   "outputs": [
    {
     "name": "stdout",
     "output_type": "stream",
     "text": [
      "accuracy 0.8878504672897196\n",
      "              precision    recall  f1-score   support\n",
      "\n",
      "           0       0.81      0.81      0.81        32\n",
      "           1       0.92      0.92      0.92        75\n",
      "\n",
      "   micro avg       0.89      0.89      0.89       107\n",
      "   macro avg       0.87      0.87      0.87       107\n",
      "weighted avg       0.89      0.89      0.89       107\n",
      "\n"
     ]
    }
   ],
   "source": [
    "from sklearn.linear_model import LogisticRegression\n",
    "\n",
    "logreg = Pipeline([('vect', CountVectorizer()),\n",
    "                ('tfidf', TfidfTransformer()),\n",
    "                ('clf', LogisticRegression(n_jobs=1, C=1e5)),\n",
    "               ])\n",
    "logreg.fit(X_train, y_train)\n",
    "\n",
    "y_pred = logreg.predict(X_test)\n",
    "print('accuracy %s' % accuracy_score(y_pred, y_test))\n",
    "print(classification_report(y_test, y_pred))\n"
   ]
  },
  {
   "cell_type": "code",
   "execution_count": 120,
   "metadata": {},
   "outputs": [
    {
     "data": {
      "text/plain": [
       "array([1, 1, 1, 0, 1, 1, 1, 0, 1, 1, 1, 1, 0, 1, 1, 0, 0, 1, 1, 1, 1, 1,\n",
       "       1, 1, 1, 0, 1, 1, 0, 0, 1, 0, 1, 1, 1, 0, 1, 1, 0, 1, 1, 1, 0, 0,\n",
       "       0, 1, 1, 0, 1, 1, 1, 0, 1, 0, 1, 1, 0, 0, 1, 1, 0, 1, 1, 1, 0, 1,\n",
       "       1, 0, 0, 1, 1, 1, 0, 1, 1, 1, 1, 1, 0, 1, 1, 1, 1, 1, 1, 1, 1, 0,\n",
       "       0, 1, 1, 1, 1, 1, 1, 0, 1, 1, 0, 1, 1, 1, 0, 0, 1, 0, 1],\n",
       "      dtype=int64)"
      ]
     },
     "execution_count": 120,
     "metadata": {},
     "output_type": "execute_result"
    }
   ],
   "source": [
    "y_pred #8 wrong in logreg"
   ]
  },
  {
   "cell_type": "code",
   "execution_count": 121,
   "metadata": {},
   "outputs": [
    {
     "data": {
      "text/plain": [
       "array([1, 1, 1, 0, 1, 1, 1, 0, 1, 0, 1, 1, 1, 1, 1, 0, 1, 1, 1, 1, 0, 1,\n",
       "       1, 1, 1, 0, 1, 1, 0, 0, 1, 1, 1, 1, 1, 0, 0, 1, 0, 1, 1, 1, 1, 0,\n",
       "       0, 1, 1, 0, 1, 1, 1, 1, 1, 0, 1, 1, 0, 0, 1, 1, 0, 1, 1, 1, 0, 1,\n",
       "       1, 1, 0, 1, 1, 0, 0, 1, 1, 1, 0, 1, 0, 1, 1, 1, 1, 1, 1, 1, 1, 0,\n",
       "       0, 1, 1, 0, 1, 1, 1, 0, 1, 1, 0, 1, 1, 1, 0, 0, 1, 0, 1],\n",
       "      dtype=int64)"
      ]
     },
     "execution_count": 121,
     "metadata": {},
     "output_type": "execute_result"
    }
   ],
   "source": [
    "np.array(y_test) "
   ]
  },
  {
   "cell_type": "code",
   "execution_count": 145,
   "metadata": {},
   "outputs": [
    {
     "name": "stdout",
     "output_type": "stream",
     "text": [
      "accuracy 0.9252336448598131\n",
      "              precision    recall  f1-score   support\n",
      "\n",
      "           0       0.88      0.88      0.88        32\n",
      "           1       0.95      0.95      0.95        75\n",
      "\n",
      "   micro avg       0.93      0.93      0.93       107\n",
      "   macro avg       0.91      0.91      0.91       107\n",
      "weighted avg       0.93      0.93      0.93       107\n",
      "\n"
     ]
    },
    {
     "name": "stderr",
     "output_type": "stream",
     "text": [
      "C:\\Users\\Dell\\Anaconda3\\lib\\site-packages\\sklearn\\ensemble\\forest.py:246: FutureWarning: The default value of n_estimators will change from 10 in version 0.20 to 100 in 0.22.\n",
      "  \"10 in version 0.20 to 100 in 0.22.\", FutureWarning)\n"
     ]
    }
   ],
   "source": [
    "from sklearn.ensemble import RandomForestClassifier\n",
    "rf= RandomForestClassifier()\n",
    "\n",
    "\n",
    "\n",
    "rf= Pipeline([('vect', CountVectorizer()),\n",
    "                ('tfidf', TfidfTransformer()),\n",
    "                ('clf', RandomForestClassifier()),\n",
    "               ])\n",
    "rf.fit(X_train, y_train)\n",
    "\n",
    "y_pred = rf.predict(X_test)\n",
    "print('accuracy %s' % accuracy_score(y_pred, y_test))\n",
    "print(classification_report(y_test, y_pred))"
   ]
  },
  {
   "cell_type": "code",
   "execution_count": 158,
   "metadata": {},
   "outputs": [
    {
     "name": "stdout",
     "output_type": "stream",
     "text": [
      "accuracy 0.9345794392523364\n",
      "              precision    recall  f1-score   support\n",
      "\n",
      "           0       0.86      0.94      0.90        32\n",
      "           1       0.97      0.93      0.95        75\n",
      "\n",
      "   micro avg       0.93      0.93      0.93       107\n",
      "   macro avg       0.91      0.94      0.92       107\n",
      "weighted avg       0.94      0.93      0.94       107\n",
      "\n"
     ]
    },
    {
     "name": "stderr",
     "output_type": "stream",
     "text": [
      "C:\\Users\\Dell\\Anaconda3\\lib\\site-packages\\sklearn\\ensemble\\forest.py:246: FutureWarning: The default value of n_estimators will change from 10 in version 0.20 to 100 in 0.22.\n",
      "  \"10 in version 0.20 to 100 in 0.22.\", FutureWarning)\n"
     ]
    }
   ],
   "source": [
    "\n",
    "from sklearn import svm\n",
    "\n",
    "# Perform classification with SVM, kernel=linear\n",
    "svm= svm.SVC()\n",
    "\n",
    "svm= Pipeline([('vect', CountVectorizer()),\n",
    "                ('tfidf', TfidfTransformer()),\n",
    "                ('clf', RandomForestClassifier()),\n",
    "               ])\n",
    "svm.fit(X_train, y_train)\n",
    "\n",
    "y_pred = svm.predict(X_test)\n",
    "print('accuracy %s' % accuracy_score(y_pred, y_test))\n",
    "print(classification_report(y_test, y_pred))"
   ]
  },
  {
   "cell_type": "code",
   "execution_count": 174,
   "metadata": {},
   "outputs": [],
   "source": [
    "data=[]\n",
    "import pandas as pd\n",
    "df=pd.read_excel(\"C:/Users/Dell/Pictures/senti/ml.xlsx\")\n",
    "# new instances where we do not know the answer\n",
    "Xnew=df.content\n",
    "# make a prediction\n",
    "ynew = logreg.predict(Xnew)\n",
    "# show the inputs and predicted outputs\n",
    "for i in range(len(Xnew)):\n",
    "    #print(\"X=%s, Predicted=%s\" % (Xnew[i], ynew[i])) \n",
    "    data.append((Xnew,ynew))\n",
    "cols=['Xnew','ynew']\n",
    "result = pd.DataFrame(data, columns=cols)\n",
    "#df['final_sentiment']= final_sentiment"
   ]
  },
  {
   "cell_type": "code",
   "execution_count": 187,
   "metadata": {},
   "outputs": [],
   "source": [
    "c=Xnew.reset_index()\n"
   ]
  },
  {
   "cell_type": "code",
   "execution_count": 188,
   "metadata": {},
   "outputs": [],
   "source": [
    "numpy_data = ynew\n",
    "df = pd.DataFrame(data=numpy_data)\n"
   ]
  },
  {
   "cell_type": "code",
   "execution_count": 191,
   "metadata": {},
   "outputs": [],
   "source": [
    "d=pd.merge(c,df1,on='index')"
   ]
  },
  {
   "cell_type": "code",
   "execution_count": 190,
   "metadata": {},
   "outputs": [],
   "source": [
    "df1=df.reset_index()"
   ]
  },
  {
   "cell_type": "code",
   "execution_count": 194,
   "metadata": {},
   "outputs": [],
   "source": [
    "d.to_excel(\"C:/Users/Dell/Pictures/rndpredicted.xlsx\")"
   ]
  },
  {
   "cell_type": "code",
   "execution_count": 164,
   "metadata": {},
   "outputs": [
    {
     "name": "stdout",
     "output_type": "stream",
     "text": [
      "X=good, Predicted=1\n",
      "X=unexpectedlly    one bottle is damaged, Predicted=0\n",
      "X=all these so called ayurvedic shampoos have all the chemicals in the book  then why call it ayurvedic  himalaya   patanjali and nyle all are one and the same dubious , Predicted=0\n",
      "X=it s good for hair loss , Predicted=1\n",
      "X=good, Predicted=1\n",
      "X=good   but did not pack it properly    shampoo leaked in the package  , Predicted=1\n",
      "X=not like, Predicted=0\n",
      "X=as of now i m utilizing it    it makes your hair smooth and delicate  my hair is sleek so it makes my hair useful for     days  so in the event that anybody have dry hair they can utilize it   as it can make your hair smooth and delicate for couple of days , Predicted=1\n",
      "X=the packing was not at all good  the bottle was not sealed and as a result shampoo was found ooing out of the bottle and inside of the parcel was slippery and wet  almost    to    ml of shampoo was lost  just a cellophane tap over the cap would have prevented this    star was given as it s not possible to give below that , Predicted=0\n",
      "X=Good product in great value, Predicted=1\n",
      "X=i used last den years i m completely setisfied, Predicted=0\n",
      "X=after using this shampoo i got lot of dandruff  don t buy this product  hairfall  also not reduced  , Predicted=0\n",
      "X=Bottle was not sealed well and it was leaking. The bottle was smelling bad and slippery & wet when arrived.\n",
      "1/4th of the product got wasted due to the leakage., Predicted=0\n",
      "X=it really moisturizes hair and smoothens without use of conditioner    hairfall  control power is yet to be seen   i have barely used once    will write after using for several times, Predicted=1\n",
      "X=Good product..softens hair, Predicted=1\n",
      "X=Great deal, Predicted=0\n",
      "X=my hairfall  started even more , Predicted=0\n",
      "X=when i used this product   then i have more hairfall  and i got dandruff in my hair  don t buy  this product, Predicted=0\n",
      "X=ok, Predicted=0\n",
      "X=i tried so many shampoos for my thick rough and dry hairs but not even single suits me but this shampoo is amazing cheap in price but works amazing atleast for my hair it s better then every high rated  branded shampoo it also stop my hairfall i love this product, Predicted=0\n",
      "X=after using this my hairfall  increased  utterly disappointed  we need much quantity to get rid of oil and dust from hair this leads to hairfall  , Predicted=0\n",
      "X=whole bottle got leaked my money got wasted, Predicted=0\n",
      "X=Best of the best...u don't need conditionerror after using it...it makes hair so shiny,soft,gives full volume n lustrous. It doesn't support hairfall  problem otherwise great product, Predicted=1\n",
      "X=nice, Predicted=1\n",
      "X=we lost some shampoo content inside the bottle , Predicted=0\n",
      "X=not good, Predicted=0\n",
      "X=Product recieved in a damaged condition, Predicted=0\n",
      "X=Nyle is a very mild shampoo and this anti-hairfall variant is very nice.Definitely worth  it., Predicted=0\n",
      "X=not at all value for money, Predicted=0\n",
      "X=Nice product, Predicted=1\n",
      "X=Nice one, Predicted=1\n",
      "X=i liked, Predicted=0\n",
      "X=Bought this shampoo from Amazon, increased hairfall considerably from the first wash itself. Dont recommend this at all., Predicted=0\n",
      "X=it was ok ok, Predicted=1\n",
      "X=dont like much, Predicted=0\n",
      "X=damaged product, Predicted=0\n",
      "X=little bit of leakage was there   the opening can be covered tightly to avoid this, Predicted=0\n",
      "X=never buy, Predicted=0\n",
      "X=Thanks Amazon by nice product in this pric and limeted time delivery by me tnx Amazon, Predicted=1\n",
      "X=nice, Predicted=1\n",
      "X=poor, Predicted=0\n",
      "X=good, Predicted=1\n",
      "X=best and good     i have been using from   month     hairfall reduce a bit     when compared other shampoo it s ok from me, Predicted=1\n",
      "X=it s leaked when i open it, Predicted=1\n",
      "X=product quality is ok but when they delivered this product  cap of this bottle opened and lots of product waste in packet , Predicted=0\n",
      "X=bottle was leaking   spoiled other items , Predicted=0\n",
      "X=using from last    years   still  no    choice   hair conditioner also not required after using it     best shampooo , Predicted=1\n",
      "X=waste, Predicted=0\n",
      "X=After using 4-5 time I felt it doesn't suit my hair at all. It makes my scalp sticky.. after washing my hair it seems like very dirty n unpleasant.. will not recommend for oily scalps., Predicted=1\n",
      "X=Nice shampoo, Predicted=1\n",
      "X=normal, Predicted=0\n",
      "X=average product , Predicted=0\n",
      "X=the product received didn t meet the expectations and this was my last product purchase from now on , Predicted=1\n",
      "X=One of the bottle was leaked due to defective lid . 40ml approx shampoo was wasted. Should have sealed the lids with tape before packing., Predicted=0\n",
      "X=good, Predicted=1\n",
      "X=Very nice best shampoo  ever, Predicted=1\n",
      "X=good, Predicted=1\n",
      "X=Bought it for my daughter .... gives  shine to the hair..feels soft and manageable .really free from chemicals .Good for regular use.will definitely go for it again., Predicted=1\n",
      "X=I am using it more than 1&half year, Think it reduces hair fall, but won't help in regrowing it., Predicted=1\n",
      "X=exactly opposite to the name, Predicted=0\n",
      "X=all time fav , Predicted=0\n",
      "X=not useful    and when i received product seal was damage and lots of shampoo coming out into the bottle     , Predicted=0\n",
      "X=Good product came safe..., Predicted=1\n",
      "X=This is a first time, i'm using this shampoo. It's a herbal and parabeen free which is good for hair. It give smooth texture to the hair as compare to other Anti hair fall shampoo. Love it and will purchase in future as well. Good product., Predicted=1\n",
      "X=i like this product, Predicted=0\n",
      "X=good, Predicted=1\n",
      "X=duplicate product   hairfall  problem increased after use , Predicted=0\n",
      "X=It's far better then costly shampoos, Predicted=1\n",
      "X=Product was open , and shampoo was spilling . Not good delivery, Predicted=0\n",
      "X=After using the shampoo my hairs feel soft and silky...Very nice herbal shampoo at this low price..., Predicted=0\n",
      "X=good, Predicted=1\n",
      "X=good, Predicted=1\n",
      "X=good, Predicted=1\n",
      "X=Good quality, Predicted=1\n",
      "X=worthful, Predicted=0\n",
      "X=like, Predicted=0\n",
      "X=gd product my hairfall almost gone  , Predicted=0\n",
      "X=don t use it   i got a damaged piece, Predicted=1\n",
      "X=shampoo  bottle leaked inside the package  , Predicted=0\n",
      "X=awesome for dry n frizzy hair , Predicted=1\n",
      "X=no leakage, Predicted=0\n",
      "X=its the best anti hair fall shampoo i have ever used. it has reduced the hairfall plus its makes the hair soft silky., Predicted=0\n",
      "X=a small suggestion from me please bottle cap tightly fix with plaster  i received my replacement order opened cap, Predicted=0\n",
      "X=fake, Predicted=0\n",
      "X=Nyle shampoo wash our hair very gently nd hair scalp is going healthy with every washðŸ‘ŒðŸ¼ðŸ‘ŒðŸ¼ðŸ‘ŒðŸ¼, Predicted=0\n",
      "X=scent , Predicted=0\n"
     ]
    }
   ],
   "source": [
    "final_sentiment=[]\n",
    "content=[]\n",
    "import pandas as pd\n",
    "df=pd.read_excel(\"C:/Users/Dell/Pictures/senti/ml.xlsx\")\n",
    "# new instances where we do not know the answer\n",
    "Xnew=df.content\n",
    "# make a prediction\n",
    "ynew = svm.predict(Xnew)\n",
    "# show the inputs and predicted outputs\n",
    "for i in range(len(Xnew)):\n",
    "    \n",
    "    \n",
    "    print(\"X=%s, Predicted=%s\" % (Xnew[i], ynew[i]))   \n",
    "    content.append(Xnew)\n",
    "    final_sentiment.append(ynew)"
   ]
  },
  {
   "cell_type": "code",
   "execution_count": 114,
   "metadata": {},
   "outputs": [],
   "source": []
  },
  {
   "cell_type": "code",
   "execution_count": null,
   "metadata": {},
   "outputs": [],
   "source": [
    "rules -sila neg kuda pos 4\n",
    "model - log -partial\n",
    "wrong class miss classfication severity high irukum pothu ethu crt ha predict panrathu eduthukalm. "
   ]
  },
  {
   "cell_type": "markdown",
   "metadata": {},
   "source": [
    "saying a +ve as -v_ve is not aproblem, \n",
    "but, saying a -ve sent as +ve is a major problem."
   ]
  },
  {
   "cell_type": "code",
   "execution_count": null,
   "metadata": {},
   "outputs": [],
   "source": []
  },
  {
   "cell_type": "code",
   "execution_count": null,
   "metadata": {},
   "outputs": [],
   "source": []
  },
  {
   "cell_type": "code",
   "execution_count": null,
   "metadata": {},
   "outputs": [],
   "source": []
  }
 ],
 "metadata": {
  "kernelspec": {
   "display_name": "Python 3",
   "language": "python",
   "name": "python3"
  },
  "language_info": {
   "codemirror_mode": {
    "name": "ipython",
    "version": 3
   },
   "file_extension": ".py",
   "mimetype": "text/x-python",
   "name": "python",
   "nbconvert_exporter": "python",
   "pygments_lexer": "ipython3",
   "version": "3.7.3"
  }
 },
 "nbformat": 4,
 "nbformat_minor": 2
}
